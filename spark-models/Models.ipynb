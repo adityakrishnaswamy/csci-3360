{
 "cells": [
  {
   "cell_type": "code",
   "execution_count": 20,
   "metadata": {},
   "outputs": [],
   "source": [
    "import pandas as pd\n",
    "from pyspark.ml.regression import LinearRegression\n",
    "from pyspark import SparkConf, SparkContext\n",
    "from pyspark.sql import SQLContext\n",
    "from pyspark.ml.feature import VectorAssembler\n",
    "import six\n",
    "sqlContext = SQLContext(sc)"
   ]
  },
  {
   "cell_type": "code",
   "execution_count": 21,
   "metadata": {},
   "outputs": [],
   "source": [
    "df = sqlContext.read.format('com.databricks.spark.csv').options(header='true', inferschema='true').load('../data/dataset1.csv')"
   ]
  },
  {
   "cell_type": "code",
   "execution_count": 22,
   "metadata": {},
   "outputs": [
    {
     "name": "stdout",
     "output_type": "stream",
     "text": [
      "root\n",
      " |-- year: integer (nullable = true)\n",
      " |-- Money_printed: integer (nullable = true)\n",
      " |-- GDP: integer (nullable = true)\n",
      " |-- Interest_RATE: double (nullable = true)\n",
      " |-- WPI: double (nullable = true)\n",
      "\n"
     ]
    }
   ],
   "source": [
    "df.cache()\n",
    "df.printSchema()"
   ]
  },
  {
   "cell_type": "markdown",
   "metadata": {},
   "source": [
    "Descriptive statistics for dataframe"
   ]
  },
  {
   "cell_type": "code",
   "execution_count": 23,
   "metadata": {},
   "outputs": [
    {
     "data": {
      "text/html": [
       "<div>\n",
       "<style scoped>\n",
       "    .dataframe tbody tr th:only-of-type {\n",
       "        vertical-align: middle;\n",
       "    }\n",
       "\n",
       "    .dataframe tbody tr th {\n",
       "        vertical-align: top;\n",
       "    }\n",
       "\n",
       "    .dataframe thead th {\n",
       "        text-align: right;\n",
       "    }\n",
       "</style>\n",
       "<table border=\"1\" class=\"dataframe\">\n",
       "  <thead>\n",
       "    <tr style=\"text-align: right;\">\n",
       "      <th></th>\n",
       "      <th>0</th>\n",
       "      <th>1</th>\n",
       "      <th>2</th>\n",
       "      <th>3</th>\n",
       "      <th>4</th>\n",
       "    </tr>\n",
       "  </thead>\n",
       "  <tbody>\n",
       "    <tr>\n",
       "      <th>summary</th>\n",
       "      <td>count</td>\n",
       "      <td>mean</td>\n",
       "      <td>stddev</td>\n",
       "      <td>min</td>\n",
       "      <td>max</td>\n",
       "    </tr>\n",
       "    <tr>\n",
       "      <th>year</th>\n",
       "      <td>35</td>\n",
       "      <td>1987.0</td>\n",
       "      <td>10.246950765959598</td>\n",
       "      <td>1970</td>\n",
       "      <td>2004</td>\n",
       "    </tr>\n",
       "    <tr>\n",
       "      <th>Money_printed</th>\n",
       "      <td>35</td>\n",
       "      <td>146641.82857142857</td>\n",
       "      <td>176494.31999767112</td>\n",
       "      <td>7374</td>\n",
       "      <td>647495</td>\n",
       "    </tr>\n",
       "    <tr>\n",
       "      <th>GDP</th>\n",
       "      <td>35</td>\n",
       "      <td>1079313.4857142856</td>\n",
       "      <td>560456.1953579775</td>\n",
       "      <td>474131</td>\n",
       "      <td>2389660</td>\n",
       "    </tr>\n",
       "    <tr>\n",
       "      <th>Interest_RATE</th>\n",
       "      <td>35</td>\n",
       "      <td>9.785714285714286</td>\n",
       "      <td>1.9599790450774868</td>\n",
       "      <td>5.375</td>\n",
       "      <td>13.0</td>\n",
       "    </tr>\n",
       "    <tr>\n",
       "      <th>WPI</th>\n",
       "      <td>35</td>\n",
       "      <td>77.37142857142858</td>\n",
       "      <td>54.1085541319679</td>\n",
       "      <td>14.3</td>\n",
       "      <td>187.3</td>\n",
       "    </tr>\n",
       "  </tbody>\n",
       "</table>\n",
       "</div>"
      ],
      "text/plain": [
       "                   0                   1                   2       3        4\n",
       "summary        count                mean              stddev     min      max\n",
       "year              35              1987.0  10.246950765959598    1970     2004\n",
       "Money_printed     35  146641.82857142857  176494.31999767112    7374   647495\n",
       "GDP               35  1079313.4857142856   560456.1953579775  474131  2389660\n",
       "Interest_RATE     35   9.785714285714286  1.9599790450774868   5.375     13.0\n",
       "WPI               35   77.37142857142858    54.1085541319679    14.3    187.3"
      ]
     },
     "execution_count": 23,
     "metadata": {},
     "output_type": "execute_result"
    }
   ],
   "source": [
    "df.describe().toPandas().transpose()"
   ]
  },
  {
   "cell_type": "code",
   "execution_count": 24,
   "metadata": {},
   "outputs": [
    {
     "name": "stdout",
     "output_type": "stream",
     "text": [
      "Correlation to Money_Printed for  year 0.8743167817297022\n",
      "Correlation to Money_Printed for  Money_printed 1.0\n",
      "Correlation to Money_Printed for  GDP 0.976212687611339\n",
      "Correlation to Money_Printed for  Interest_RATE -0.2991204055878383\n",
      "Correlation to Money_Printed for  WPI 0.9546405759266342\n"
     ]
    }
   ],
   "source": [
    "for i in df.columns:\n",
    "    if not( isinstance(df.select(i).take(1)[0][0], six.string_types)):\n",
    "        print( \"Correlation to Money_Printed for \", i, df.stat.corr('Money_printed',i))"
   ]
  },
  {
   "cell_type": "markdown",
   "metadata": {},
   "source": [
    "# Model 1\n",
    "Separate DataFrame into features and target for Model 1"
   ]
  },
  {
   "cell_type": "code",
   "execution_count": 25,
   "metadata": {},
   "outputs": [
    {
     "name": "stdout",
     "output_type": "stream",
     "text": [
      "+--------------------+-------------+\n",
      "|            features|Money_Printed|\n",
      "+--------------------+-------------+\n",
      "|[1970.0,474131.0,...|         7374|\n",
      "|[1971.0,478918.0,...|         8323|\n",
      "|[1972.0,477392.0,...|         9700|\n",
      "|[1973.0,499120.0,...|        11200|\n",
      "|[1974.0,504914.0,...|        11975|\n",
      "|[1975.0,550379.0,...|        13325|\n",
      "|[1976.0,557258.0,...|        16024|\n",
      "|[1977.0,598885.0,...|        14388|\n",
      "|[1978.0,631839.0,...|        17292|\n",
      "|[1979.0,598974.0,...|        20000|\n",
      "+--------------------+-------------+\n",
      "only showing top 10 rows\n",
      "\n"
     ]
    }
   ],
   "source": [
    "vAssembler = VectorAssembler(inputCols=['year','GDP','Interest_RATE','WPI'],outputCol = 'features')\n",
    "v_df = vAssembler.transform(df)\n",
    "v_df = v_df.select(['features','Money_Printed'])\n",
    "v_df.show(10)"
   ]
  },
  {
   "cell_type": "markdown",
   "metadata": {},
   "source": [
    "Setting up the regression model"
   ]
  },
  {
   "cell_type": "code",
   "execution_count": 26,
   "metadata": {},
   "outputs": [
    {
     "name": "stdout",
     "output_type": "stream",
     "text": [
      "Coefficients: [-8849.943441049678,0.46695301166639036,-4920.335722554735,-74.16652385867204]\n",
      "Intercept: 17281378.132724542\n"
     ]
    }
   ],
   "source": [
    "from pyspark.ml.regression import LinearRegression\n",
    "\n",
    "lr = LinearRegression(featuresCol = 'features',labelCol = 'Money_Printed')\n",
    "lr_model = lr.fit(v_df)\n",
    "print(\"Coefficients: \" + str(lr_model.coefficients))\n",
    "print(\"Intercept: \" + str(lr_model.intercept))"
   ]
  },
  {
   "cell_type": "code",
   "execution_count": 32,
   "metadata": {},
   "outputs": [
    {
     "name": "stdout",
     "output_type": "stream",
     "text": [
      "r2: 0.992933\n"
     ]
    }
   ],
   "source": [
    "m1_summary = lr_model.summary\n",
    "print(\"r2: %f\" % m1_summary.r2)"
   ]
  },
  {
   "cell_type": "markdown",
   "metadata": {},
   "source": [
    "# Model 2\n"
   ]
  },
  {
   "cell_type": "code",
   "execution_count": 29,
   "metadata": {},
   "outputs": [
    {
     "name": "stdout",
     "output_type": "stream",
     "text": [
      "+--------------------+-------------+\n",
      "|            features|Money_Printed|\n",
      "+--------------------+-------------+\n",
      "|[1970.0,474131.0,...|         7374|\n",
      "|[1971.0,478918.0,...|         8323|\n",
      "|[1972.0,477392.0,...|         9700|\n",
      "|[1973.0,499120.0,...|        11200|\n",
      "|[1974.0,504914.0,...|        11975|\n",
      "|[1975.0,550379.0,...|        13325|\n",
      "|[1976.0,557258.0,...|        16024|\n",
      "|[1977.0,598885.0,...|        14388|\n",
      "|[1978.0,631839.0,...|        17292|\n",
      "|[1979.0,598974.0,...|        20000|\n",
      "+--------------------+-------------+\n",
      "only showing top 10 rows\n",
      "\n"
     ]
    }
   ],
   "source": [
    "vAssembler = VectorAssembler(inputCols=['year','GDP','Interest_RATE'],outputCol = 'features')\n",
    "v_df = vAssembler.transform(df)\n",
    "v_df = v_df.select(['features','Money_Printed'])\n",
    "v_df.show(10)"
   ]
  },
  {
   "cell_type": "code",
   "execution_count": 30,
   "metadata": {},
   "outputs": [
    {
     "name": "stdout",
     "output_type": "stream",
     "text": [
      "Coefficients: [-8844.925443609924,0.45967465096523946,-5100.486324043806]\n",
      "Intercept: 17275287.537081845\n"
     ]
    }
   ],
   "source": [
    "lr = LinearRegression(featuresCol = 'features',labelCol = 'Money_Printed')\n",
    "lr_model = lr.fit(v_df)\n",
    "print(\"Coefficients: \" + str(lr_model.coefficients))\n",
    "print(\"Intercept: \" + str(lr_model.intercept))"
   ]
  },
  {
   "cell_type": "code",
   "execution_count": 36,
   "metadata": {},
   "outputs": [
    {
     "name": "stdout",
     "output_type": "stream",
     "text": [
      "model 1 r2: 0.992933\n",
      "model 2 r2: 0.992933\n"
     ]
    }
   ],
   "source": [
    "m2_summary = lr_model.summary\n",
    "print(\"model 1 r2: %f\" % m1_summary.r2)\n",
    "print(\"model 2 r2: %f\" % m2_summary.r2)"
   ]
  }
 ],
 "metadata": {
  "kernelspec": {
   "display_name": "Python 3",
   "language": "python",
   "name": "python3"
  },
  "language_info": {
   "codemirror_mode": {
    "name": "ipython",
    "version": 3
   },
   "file_extension": ".py",
   "mimetype": "text/x-python",
   "name": "python",
   "nbconvert_exporter": "python",
   "pygments_lexer": "ipython3",
   "version": "3.6.5"
  }
 },
 "nbformat": 4,
 "nbformat_minor": 2
}
